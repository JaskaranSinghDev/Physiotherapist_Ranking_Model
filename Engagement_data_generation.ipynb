{
 "cells": [
  {
   "cell_type": "code",
   "execution_count": 1,
   "id": "b54b4478",
   "metadata": {},
   "outputs": [
    {
     "name": "stdout",
     "output_type": "stream",
     "text": [
      "DATA_DIR set to: C:\\Users\\DELL\\OneDrive\\Desktop\\Final\n"
     ]
    }
   ],
   "source": [
    "                           \n",
    "from pathlib import Path\n",
    "import os\n",
    "try :\n",
    "    PROJECT_DIR =Path (globals ().get ('_dh',[Path .cwd ()])[0 ]).resolve ()\n",
    "except Exception :\n",
    "    PROJECT_DIR =Path .cwd ().resolve ()\n",
    "DATA_DIR =PROJECT_DIR\n",
    "os .makedirs (DATA_DIR ,exist_ok =True )\n",
    "print (f\"DATA_DIR set to: {DATA_DIR}\")\n"
   ]
  },
  {
   "cell_type": "code",
   "execution_count": 2,
   "id": "d60c59fc",
   "metadata": {},
   "outputs": [
    {
     "name": "stdout",
     "output_type": "stream",
     "text": [
      "Parameters set.  Synthetic file will be written to: engagement_data.csv\n"
     ]
    }
   ],
   "source": [
    "                           \n",
    "import pandas as pd ,numpy as np ,random ,re ,os\n",
    "from datetime import datetime ,timedelta\n",
    "from difflib import get_close_matches\n",
    "WEEKS =26\n",
    "LAMBDA_WEEK =3\n",
    "ALPHA_SOFTMAX =1.5\n",
    "OUT_PATH =\"engagement_data.csv\"\n",
    "np .random .seed (42 );random .seed (42 )\n",
    "print (\"Parameters set.  Synthetic file will be written to:\",OUT_PATH )\n"
   ]
  },
  {
   "cell_type": "code",
   "execution_count": 3,
   "id": "470de932",
   "metadata": {},
   "outputs": [
    {
     "name": "stdout",
     "output_type": "stream",
     "text": [
      "Loaded: 1000 trainers  |   40000 users\n"
     ]
    }
   ],
   "source": [
    "                               \n",
    "DATA_PATH =\"/mnt/data\"\n",
    "df_pt =pd .read_csv (str (DATA_DIR /'PT_data.cleaned.csv'))\n",
    "df_user =pd .read_csv (str (DATA_DIR /'user.csv'))\n",
    "goal2tags ={\n",
    "\"injury recovery & rehabilitation\":[\"rehabilitation\",\"physiotherapy\",\"functional training\"],\n",
    "\"strength building\":[\"strength training\",\"powerlifting\"],\n",
    "\"muscle gain\":[\"muscle building\",\"bodybuilding\"],\n",
    "\"cardiovascular fitness\":[\"cardio\",\"hiit\",\"crossfit\"],\n",
    "\"flexibility & mobility\":[\"flexibility\",\"yoga\",\"pilates\"],\n",
    "\"general fitness & wellness\":[\"functional training\",\"yoga\",\"pilates\"],\n",
    "\"weight management\":[\"weight loss\",\"hiit\",\"cardio\"],\n",
    "\"stress reduction & mindfulness\":[\"yoga\",\"pilates\"],\n",
    "\"prenatal & postnatal health\":[\"prenatal fitness\"],\n",
    "\"healthy aging / senior wellness\":[\"elderly fitness\",\"functional training\"],\n",
    "\"athletic performance & sports rehab\":[\"sports-specific\",\"crossfit\"],\n",
    "\"aesthetic & physique goals\":[\"bodybuilding\",\"muscle building\"],\n",
    "}\n",
    "def speciality_match (spec_string :str ,goal :str )->bool :\n",
    "    \"\"\"Exact ▸ synonym ▸ fuzzy (difflib)\"\"\"\n",
    "    toks =[t .strip ().lower ()for t in re .split (r\"[,&/]\",spec_string )]\n",
    "    goal_lc =goal .lower ().strip ()\n",
    "    if goal_lc in toks :\n",
    "        return True\n",
    "    if goal_lc in goal2tags and any (tag in toks for tag in goal2tags [goal_lc ]):\n",
    "        return True\n",
    "    return bool (get_close_matches (goal_lc ,toks ,n =1 ,cutoff =0.83 ))\n",
    "print (\"Loaded:\",len (df_pt ),\"trainers  |  \",len (df_user ),\"users\")\n"
   ]
  },
  {
   "cell_type": "code",
   "execution_count": 4,
   "id": "d06c3428",
   "metadata": {},
   "outputs": [
    {
     "name": "stdout",
     "output_type": "stream",
     "text": [
      "Wrote 3,120,110 synthetic interactions to engagement_data.csv\n"
     ]
    }
   ],
   "source": [
    "                       \n",
    "df_pt [\"q_quality\"]=np .random .beta (a =2 ,b =2 ,size =len (df_pt ))\n",
    "rows ,interaction_id =[],1\n",
    "today =datetime .today ().replace (hour =0 ,minute =0 ,second =0 ,microsecond =0 )\n",
    "for _ ,user in df_user .iterrows ():\n",
    "    uid ,goal =user [\"user_id\"],user [\"health_goal\"]\n",
    "    cand =df_pt [df_pt [\"specialities\"].apply (lambda s :speciality_match (s ,goal ))]\n",
    "    if cand .empty :\n",
    "        continue\n",
    "    probs =np .exp (ALPHA_SOFTMAX *cand [\"q_quality\"].values )\n",
    "    probs /=probs .sum ()\n",
    "    for week in range (WEEKS ):\n",
    "        n_int =np .random .poisson (LAMBDA_WEEK )\n",
    "        for _ in range (n_int ):\n",
    "            idx =np .random .choice (cand .index ,p =probs )\n",
    "            trainer_id ,q =cand .at [idx ,\"trainer_id\"],cand .at [idx ,\"q_quality\"]\n",
    "            vc_rate =np .random .beta (1 +3 *q ,1 +3 *(1 -q ))\n",
    "            adherence =vc_rate *(0.8 +0.2 *np .random .rand ())\n",
    "            feedback =np .clip (1 +4 *q +np .random .normal (0 ,0.5 ),1 ,5 )\n",
    "            days_ago =week *7 +np .random .randint (0 ,7 )\n",
    "            timestamp =today -timedelta (days =days_ago ,\n",
    "            hours =np .random .randint (0 ,24 ),\n",
    "            minutes =np .random .randint (0 ,60 ))\n",
    "            rows .append ({\n",
    "            \"interaction_id\":interaction_id ,\n",
    "            \"timestamp\":timestamp ,\n",
    "            \"user_id\":uid ,\n",
    "            \"trainer_id\":trainer_id ,\n",
    "            \"video_completion_rate\":round (vc_rate ,3 ),\n",
    "            \"adherence_score\":round (adherence ,3 ),\n",
    "            \"feedback_score\":round (feedback ,2 )\n",
    "            })\n",
    "            interaction_id +=1\n",
    "df_syn =pd .DataFrame (rows ).sort_values (\"timestamp\")\n",
    "df_syn .to_csv (OUT_PATH ,index =False )\n",
    "print (f\"Wrote {len(df_syn):,} synthetic interactions to {OUT_PATH}\")\n"
   ]
  },
  {
   "cell_type": "code",
   "execution_count": 5,
   "id": "fec5a843",
   "metadata": {},
   "outputs": [
    {
     "data": {
      "text/html": [
       "<div>\n",
       "<style scoped>\n",
       "    .dataframe tbody tr th:only-of-type {\n",
       "        vertical-align: middle;\n",
       "    }\n",
       "\n",
       "    .dataframe tbody tr th {\n",
       "        vertical-align: top;\n",
       "    }\n",
       "\n",
       "    .dataframe thead th {\n",
       "        text-align: right;\n",
       "    }\n",
       "</style>\n",
       "<table border=\"1\" class=\"dataframe\">\n",
       "  <thead>\n",
       "    <tr style=\"text-align: right;\">\n",
       "      <th></th>\n",
       "      <th>interaction_id</th>\n",
       "      <th>timestamp</th>\n",
       "      <th>user_id</th>\n",
       "      <th>trainer_id</th>\n",
       "      <th>video_completion_rate</th>\n",
       "      <th>adherence_score</th>\n",
       "      <th>feedback_score</th>\n",
       "    </tr>\n",
       "  </thead>\n",
       "  <tbody>\n",
       "    <tr>\n",
       "      <th>1861284</th>\n",
       "      <td>1861285</td>\n",
       "      <td>2025-02-28 00:01:00</td>\n",
       "      <td>23879</td>\n",
       "      <td>585</td>\n",
       "      <td>0.632</td>\n",
       "      <td>0.534</td>\n",
       "      <td>3.85</td>\n",
       "    </tr>\n",
       "    <tr>\n",
       "      <th>393904</th>\n",
       "      <td>393905</td>\n",
       "      <td>2025-02-28 00:01:00</td>\n",
       "      <td>5053</td>\n",
       "      <td>73</td>\n",
       "      <td>0.805</td>\n",
       "      <td>0.792</td>\n",
       "      <td>2.72</td>\n",
       "    </tr>\n",
       "    <tr>\n",
       "      <th>220602</th>\n",
       "      <td>220603</td>\n",
       "      <td>2025-02-28 00:01:00</td>\n",
       "      <td>2834</td>\n",
       "      <td>475</td>\n",
       "      <td>0.414</td>\n",
       "      <td>0.356</td>\n",
       "      <td>2.94</td>\n",
       "    </tr>\n",
       "    <tr>\n",
       "      <th>465058</th>\n",
       "      <td>465059</td>\n",
       "      <td>2025-02-28 00:01:00</td>\n",
       "      <td>5967</td>\n",
       "      <td>834</td>\n",
       "      <td>0.413</td>\n",
       "      <td>0.388</td>\n",
       "      <td>4.21</td>\n",
       "    </tr>\n",
       "    <tr>\n",
       "      <th>1896100</th>\n",
       "      <td>1896101</td>\n",
       "      <td>2025-02-28 00:01:00</td>\n",
       "      <td>24327</td>\n",
       "      <td>83</td>\n",
       "      <td>0.635</td>\n",
       "      <td>0.600</td>\n",
       "      <td>3.36</td>\n",
       "    </tr>\n",
       "  </tbody>\n",
       "</table>\n",
       "</div>"
      ],
      "text/plain": [
       "         interaction_id           timestamp  user_id  trainer_id  \\\n",
       "1861284         1861285 2025-02-28 00:01:00    23879         585   \n",
       "393904           393905 2025-02-28 00:01:00     5053          73   \n",
       "220602           220603 2025-02-28 00:01:00     2834         475   \n",
       "465058           465059 2025-02-28 00:01:00     5967         834   \n",
       "1896100         1896101 2025-02-28 00:01:00    24327          83   \n",
       "\n",
       "         video_completion_rate  adherence_score  feedback_score  \n",
       "1861284                  0.632            0.534            3.85  \n",
       "393904                   0.805            0.792            2.72  \n",
       "220602                   0.414            0.356            2.94  \n",
       "465058                   0.413            0.388            4.21  \n",
       "1896100                  0.635            0.600            3.36  "
      ]
     },
     "execution_count": 5,
     "metadata": {},
     "output_type": "execute_result"
    }
   ],
   "source": [
    "                                  \n",
    "df_syn .head ()\n"
   ]
  }
 ],
 "metadata": {
  "kernelspec": {
   "display_name": "Python 3",
   "language": "python",
   "name": "python3"
  },
  "language_info": {
   "codemirror_mode": {
    "name": "ipython",
    "version": 3
   },
   "file_extension": ".py",
   "mimetype": "text/x-python",
   "name": "python",
   "nbconvert_exporter": "python",
   "pygments_lexer": "ipython3",
   "version": "3.12.4"
  }
 },
 "nbformat": 4,
 "nbformat_minor": 5
}