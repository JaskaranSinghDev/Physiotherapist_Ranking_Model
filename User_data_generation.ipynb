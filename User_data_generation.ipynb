{
 "cells": [
  {
   "cell_type": "code",
   "execution_count": 1,
   "id": "1ff38a1b",
   "metadata": {},
   "outputs": [
    {
     "name": "stdout",
     "output_type": "stream",
     "text": [
      "DATA_DIR set to: C:\\Users\\DELL\\OneDrive\\Desktop\\Final\n"
     ]
    }
   ],
   "source": [
    "                           \n",
    "from pathlib import Path\n",
    "import os\n",
    "try :\n",
    "    PROJECT_DIR =Path (globals ().get ('_dh',[Path .cwd ()])[0 ]).resolve ()\n",
    "except Exception :\n",
    "    PROJECT_DIR =Path .cwd ().resolve ()\n",
    "DATA_DIR =PROJECT_DIR\n",
    "os .makedirs (DATA_DIR ,exist_ok =True )\n",
    "print (f\"DATA_DIR set to: {DATA_DIR}\")\n"
   ]
  },
  {
   "cell_type": "markdown",
   "id": "e7a2284b",
   "metadata": {},
   "source": [
    "User Data Generation"
   ]
  },
  {
   "cell_type": "code",
   "execution_count": 2,
   "id": "1aa7badb",
   "metadata": {},
   "outputs": [],
   "source": [
    "                                       \n",
    "import pandas as pd\n",
    "import numpy as np \n"
   ]
  },
  {
   "cell_type": "code",
   "execution_count": 3,
   "id": "ea032645",
   "metadata": {},
   "outputs": [],
   "source": [
    "                                       \n",
    "n_users =40000 \n"
   ]
  },
  {
   "cell_type": "code",
   "execution_count": 4,
   "id": "8cb48244",
   "metadata": {},
   "outputs": [],
   "source": [
    "                                         \n",
    "np .random .seed (45 )\n"
   ]
  },
  {
   "cell_type": "code",
   "execution_count": 5,
   "id": "36ceeac7",
   "metadata": {},
   "outputs": [],
   "source": [
    "                                       \n",
    "age_groups =['18-25','26-35','36-50','50+']\n",
    "age_group_probs =[0.20 ,0.35 ,0.30 ,0.15 ]\n"
   ]
  },
  {
   "cell_type": "code",
   "execution_count": 6,
   "id": "bae77428",
   "metadata": {},
   "outputs": [],
   "source": [
    "                                       \n",
    "GOALS_BY_AGE ={\n",
    "'18-25':[\n",
    "('Injury Recovery & Rehabilitation',0.15 ),\n",
    "('Strength Building',0.18 ),\n",
    "('Muscle Gain',0.15 ),\n",
    "('Cardiovascular Fitness',0.12 ),\n",
    "('Flexibility & Mobility',0.10 ),\n",
    "('General Fitness & Wellness',0.12 ),\n",
    "('Weight Management',0.10 ),\n",
    "('Athletic Performance & Sports Rehab',0.05 ),\n",
    "('Aesthetic & Physique Goals',0.03 ),\n",
    "],\n",
    "'26-35':[\n",
    "('Injury Recovery & Rehabilitation',0.15 ),\n",
    "('Strength Building',0.14 ),\n",
    "('Muscle Gain',0.10 ),\n",
    "('Cardiovascular Fitness',0.10 ),\n",
    "('Flexibility & Mobility',0.08 ),\n",
    "('General Fitness & Wellness',0.14 ),\n",
    "('Weight Management',0.10 ),\n",
    "('Stress Reduction & Mindfulness',0.05 ),\n",
    "('Prenatal & Postnatal Health',0.03 ),\n",
    "('Athletic Performance & Sports Rehab',0.07 ),\n",
    "('Aesthetic & Physique Goals',0.04 ),\n",
    "],\n",
    "'36-50':[\n",
    "('Injury Recovery & Rehabilitation',0.15 ),\n",
    "('Strength Building',0.12 ),\n",
    "('Cardiovascular Fitness',0.14 ),\n",
    "('Flexibility & Mobility',0.10 ),\n",
    "('General Fitness & Wellness',0.15 ),\n",
    "('Weight Management',0.11 ),\n",
    "('Stress Reduction & Mindfulness',0.10 ),\n",
    "('Prenatal & Postnatal Health',0.02 ),\n",
    "('Athletic Performance & Sports Rehab',0.06 ),\n",
    "('Aesthetic & Physique Goals',0.05 ),\n",
    "],\n",
    "'50+':[\n",
    "('Injury Recovery & Rehabilitation',0.15 ),\n",
    "('Cardiovascular Fitness',0.18 ),\n",
    "('Flexibility & Mobility',0.15 ),\n",
    "('General Fitness & Wellness',0.18 ),\n",
    "('Weight Management',0.14 ),\n",
    "('Healthy Aging / Senior Wellness',0.20 ),\n",
    "],\n",
    "}\n"
   ]
  },
  {
   "cell_type": "code",
   "execution_count": 7,
   "id": "dbd04249",
   "metadata": {},
   "outputs": [],
   "source": [
    "                                       \n",
    "activity_probs_by_age ={\n",
    "'18-25':[0.25 ,0.50 ,0.25 ],\n",
    "'26-35':[0.30 ,0.50 ,0.20 ],\n",
    "'36-50':[0.45 ,0.45 ,0.10 ],\n",
    "'50+':[0.60 ,0.35 ,0.05 ],\n",
    "}\n"
   ]
  },
  {
   "cell_type": "code",
   "execution_count": 8,
   "id": "55fa628d",
   "metadata": {},
   "outputs": [],
   "source": [
    "                                       \n",
    "persona_probs ={\n",
    "'low':[0.10 ,0.55 ,0.35 ],\n",
    "'moderate':[0.25 ,0.55 ,0.20 ],\n",
    "'high':[0.50 ,0.40 ,0.10 ],\n",
    "}\n"
   ]
  },
  {
   "cell_type": "code",
   "execution_count": 9,
   "id": "bd61eede",
   "metadata": {},
   "outputs": [],
   "source": [
    "                            \n",
    "def sample_goal (age_group :str )->str :\n",
    "    goals ,probs =zip (*GOALS_BY_AGE [age_group ])\n",
    "    return np .random .choice (goals ,p =probs )\n"
   ]
  },
  {
   "cell_type": "code",
   "execution_count": 10,
   "id": "626bb5ed",
   "metadata": {},
   "outputs": [],
   "source": [
    "                            \n",
    "def sample_goal (age_group :str )->str :\n",
    "    goals ,probs =zip (*GOALS_BY_AGE [age_group ])\n",
    "    return np .random .choice (goals ,p =probs )\n",
    "def sample_activity (age_group :str ,health_goal :str )->str :\n",
    "    if health_goal in {'Strength Building','Muscle Gain'}:\n",
    "        base =[0.15 ,0.45 ,0.40 ]if age_group !='50+'else [0.30 ,0.55 ,0.15 ]\n",
    "    elif health_goal =='Healthy Aging / Senior Wellness':\n",
    "        base =[0.70 ,0.25 ,0.05 ]\n",
    "    else :\n",
    "        base =activity_probs_by_age [age_group ]\n",
    "    return np .random .choice (['low','moderate','high'],p =base )\n",
    "def sample_persona (activity_level :str )->str :\n",
    "    return np .random .choice (['high','medium','low'],p =persona_probs [activity_level ])\n"
   ]
  },
  {
   "cell_type": "code",
   "execution_count": 11,
   "id": "d6ae4d44",
   "metadata": {},
   "outputs": [],
   "source": [
    "                                       \n"
   ]
  },
  {
   "cell_type": "code",
   "execution_count": 12,
   "id": "6080c0ab",
   "metadata": {},
   "outputs": [],
   "source": [
    "                                       \n",
    "age_col =np .random .choice (age_groups ,size =n_users ,p =age_group_probs )\n"
   ]
  },
  {
   "cell_type": "code",
   "execution_count": 13,
   "id": "8550d82c",
   "metadata": {},
   "outputs": [],
   "source": [
    "                                       \n",
    "health_goal_col =[sample_goal (a )for a in age_col ]\n"
   ]
  },
  {
   "cell_type": "code",
   "execution_count": 14,
   "id": "601b8b84",
   "metadata": {},
   "outputs": [],
   "source": [
    "                                       \n",
    "baseline_activity_col =[sample_activity (a ,g )for a ,g in zip (age_col ,health_goal_col )]\n"
   ]
  },
  {
   "cell_type": "code",
   "execution_count": 15,
   "id": "289148a0",
   "metadata": {},
   "outputs": [],
   "source": [
    "                                       \n",
    "engagement_col =[sample_persona (act )for act in baseline_activity_col ]\n"
   ]
  },
  {
   "cell_type": "code",
   "execution_count": 16,
   "id": "f2921c82",
   "metadata": {},
   "outputs": [],
   "source": [
    "                                       \n",
    "users =pd .DataFrame ({\n",
    "'user_id':range (1 ,n_users +1 ),\n",
    "'age_group':age_col ,\n",
    "'health_goal':health_goal_col ,\n",
    "'baseline_activity_level':baseline_activity_col ,\n",
    "'engagement_persona':engagement_col ,\n",
    "})\n"
   ]
  },
  {
   "cell_type": "code",
   "execution_count": 17,
   "id": "d6f1b325",
   "metadata": {},
   "outputs": [
    {
     "data": {
      "text/html": [
       "<div>\n",
       "<style scoped>\n",
       "    .dataframe tbody tr th:only-of-type {\n",
       "        vertical-align: middle;\n",
       "    }\n",
       "\n",
       "    .dataframe tbody tr th {\n",
       "        vertical-align: top;\n",
       "    }\n",
       "\n",
       "    .dataframe thead th {\n",
       "        text-align: right;\n",
       "    }\n",
       "</style>\n",
       "<table border=\"1\" class=\"dataframe\">\n",
       "  <thead>\n",
       "    <tr style=\"text-align: right;\">\n",
       "      <th></th>\n",
       "      <th>user_id</th>\n",
       "      <th>age_group</th>\n",
       "      <th>health_goal</th>\n",
       "      <th>baseline_activity_level</th>\n",
       "      <th>engagement_persona</th>\n",
       "    </tr>\n",
       "  </thead>\n",
       "  <tbody>\n",
       "    <tr>\n",
       "      <th>0</th>\n",
       "      <td>1</td>\n",
       "      <td>50+</td>\n",
       "      <td>Flexibility &amp; Mobility</td>\n",
       "      <td>moderate</td>\n",
       "      <td>high</td>\n",
       "    </tr>\n",
       "    <tr>\n",
       "      <th>1</th>\n",
       "      <td>2</td>\n",
       "      <td>26-35</td>\n",
       "      <td>General Fitness &amp; Wellness</td>\n",
       "      <td>moderate</td>\n",
       "      <td>medium</td>\n",
       "    </tr>\n",
       "    <tr>\n",
       "      <th>2</th>\n",
       "      <td>3</td>\n",
       "      <td>26-35</td>\n",
       "      <td>Injury Recovery &amp; Rehabilitation</td>\n",
       "      <td>moderate</td>\n",
       "      <td>high</td>\n",
       "    </tr>\n",
       "    <tr>\n",
       "      <th>3</th>\n",
       "      <td>4</td>\n",
       "      <td>18-25</td>\n",
       "      <td>Injury Recovery &amp; Rehabilitation</td>\n",
       "      <td>high</td>\n",
       "      <td>medium</td>\n",
       "    </tr>\n",
       "    <tr>\n",
       "      <th>4</th>\n",
       "      <td>5</td>\n",
       "      <td>26-35</td>\n",
       "      <td>General Fitness &amp; Wellness</td>\n",
       "      <td>moderate</td>\n",
       "      <td>medium</td>\n",
       "    </tr>\n",
       "    <tr>\n",
       "      <th>5</th>\n",
       "      <td>6</td>\n",
       "      <td>26-35</td>\n",
       "      <td>General Fitness &amp; Wellness</td>\n",
       "      <td>moderate</td>\n",
       "      <td>low</td>\n",
       "    </tr>\n",
       "    <tr>\n",
       "      <th>6</th>\n",
       "      <td>7</td>\n",
       "      <td>18-25</td>\n",
       "      <td>Injury Recovery &amp; Rehabilitation</td>\n",
       "      <td>high</td>\n",
       "      <td>medium</td>\n",
       "    </tr>\n",
       "    <tr>\n",
       "      <th>7</th>\n",
       "      <td>8</td>\n",
       "      <td>18-25</td>\n",
       "      <td>Injury Recovery &amp; Rehabilitation</td>\n",
       "      <td>moderate</td>\n",
       "      <td>medium</td>\n",
       "    </tr>\n",
       "    <tr>\n",
       "      <th>8</th>\n",
       "      <td>9</td>\n",
       "      <td>18-25</td>\n",
       "      <td>General Fitness &amp; Wellness</td>\n",
       "      <td>high</td>\n",
       "      <td>high</td>\n",
       "    </tr>\n",
       "    <tr>\n",
       "      <th>9</th>\n",
       "      <td>10</td>\n",
       "      <td>36-50</td>\n",
       "      <td>Prenatal &amp; Postnatal Health</td>\n",
       "      <td>low</td>\n",
       "      <td>medium</td>\n",
       "    </tr>\n",
       "  </tbody>\n",
       "</table>\n",
       "</div>"
      ],
      "text/plain": [
       "   user_id age_group                       health_goal  \\\n",
       "0        1       50+            Flexibility & Mobility   \n",
       "1        2     26-35        General Fitness & Wellness   \n",
       "2        3     26-35  Injury Recovery & Rehabilitation   \n",
       "3        4     18-25  Injury Recovery & Rehabilitation   \n",
       "4        5     26-35        General Fitness & Wellness   \n",
       "5        6     26-35        General Fitness & Wellness   \n",
       "6        7     18-25  Injury Recovery & Rehabilitation   \n",
       "7        8     18-25  Injury Recovery & Rehabilitation   \n",
       "8        9     18-25        General Fitness & Wellness   \n",
       "9       10     36-50       Prenatal & Postnatal Health   \n",
       "\n",
       "  baseline_activity_level engagement_persona  \n",
       "0                moderate               high  \n",
       "1                moderate             medium  \n",
       "2                moderate               high  \n",
       "3                    high             medium  \n",
       "4                moderate             medium  \n",
       "5                moderate                low  \n",
       "6                    high             medium  \n",
       "7                moderate             medium  \n",
       "8                    high               high  \n",
       "9                     low             medium  "
      ]
     },
     "execution_count": 17,
     "metadata": {},
     "output_type": "execute_result"
    }
   ],
   "source": [
    "                                       \n",
    "users .head (10 )\n"
   ]
  },
  {
   "cell_type": "code",
   "execution_count": 18,
   "id": "91a0a47a",
   "metadata": {},
   "outputs": [],
   "source": [
    "                       \n",
    "users .to_csv (str (DATA_DIR /'user.csv'))\n"
   ]
  }
 ],
 "metadata": {
  "kernelspec": {
   "display_name": "Python 3",
   "language": "python",
   "name": "python3"
  },
  "language_info": {
   "codemirror_mode": {
    "name": "ipython",
    "version": 3
   },
   "file_extension": ".py",
   "mimetype": "text/x-python",
   "name": "python",
   "nbconvert_exporter": "python",
   "pygments_lexer": "ipython3",
   "version": "3.12.4"
  }
 },
 "nbformat": 4,
 "nbformat_minor": 5
}